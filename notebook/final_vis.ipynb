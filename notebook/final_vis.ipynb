{
 "cells": [
  {
   "cell_type": "code",
   "execution_count": 89,
   "metadata": {},
   "outputs": [],
   "source": [
    "import plotly.graph_objects as go\n",
    "import numpy as np\n",
    "import pandas as pd\n",
    "import plotly.express as px\n",
    "\n",
    "import seaborn as sns\n",
    "import matplotlib.pyplot as plt\n",
    "import numpy as np"
   ]
  },
  {
   "attachments": {},
   "cell_type": "markdown",
   "metadata": {},
   "source": [
    "# style 1"
   ]
  },
  {
   "cell_type": "code",
   "execution_count": 115,
   "metadata": {},
   "outputs": [
    {
     "data": {
      "application/vnd.plotly.v1+json": {
       "config": {
        "plotlyServerURL": "https://plot.ly"
       },
       "data": [
        {
         "line": {
          "width": 3
         },
         "marker": {
          "size": 12
         },
         "mode": "markers+lines",
         "name": "150",
         "type": "scatter",
         "x": [
          200,
          400,
          600,
          800
         ],
         "y": [
          68.32,
          71.41,
          73.85,
          75.56
         ]
        },
        {
         "line": {
          "width": 3
         },
         "marker": {
          "size": 12
         },
         "mode": "markers+lines",
         "name": "300",
         "type": "scatter",
         "x": [
          200,
          400,
          600,
          800
         ],
         "y": [
          71.42,
          75.6,
          77.59,
          78.68
         ]
        },
        {
         "line": {
          "width": 3
         },
         "marker": {
          "size": 12
         },
         "mode": "markers+lines",
         "name": "450",
         "type": "scatter",
         "x": [
          200,
          400,
          600,
          800
         ],
         "y": [
          73.84,
          77.57,
          79.04,
          79.78
         ]
        },
        {
         "line": {
          "width": 3
         },
         "marker": {
          "size": 12
         },
         "mode": "markers+lines",
         "name": "600",
         "type": "scatter",
         "x": [
          200,
          400,
          600,
          800
         ],
         "y": [
          75.58,
          78.66,
          79.76,
          80.26
         ]
        },
        {
         "marker": {
          "color": "blue",
          "size": 20,
          "symbol": "square"
         },
         "mode": "markers",
         "showlegend": false,
         "type": "scatter",
         "x": [
          600,
          800
         ],
         "y": [
          79.77,
          79.77
         ]
        },
        {
         "marker": {
          "color": "blue",
          "size": 20,
          "symbol": "diamond"
         },
         "mode": "markers",
         "showlegend": false,
         "type": "scatter",
         "x": [
          400,
          800
         ],
         "y": [
          78.67,
          78.67
         ]
        },
        {
         "marker": {
          "color": "blue",
          "size": 20,
          "symbol": "triangle-up"
         },
         "mode": "markers",
         "showlegend": false,
         "type": "scatter",
         "x": [
          400,
          600
         ],
         "y": [
          77.58,
          77.58
         ]
        },
        {
         "marker": {
          "color": "blue",
          "size": 20,
          "symbol": "star"
         },
         "mode": "markers",
         "showlegend": false,
         "type": "scatter",
         "x": [
          200,
          400,
          800
         ],
         "y": [
          75.59,
          75.59,
          75.59
         ]
        },
        {
         "marker": {
          "color": "blue",
          "size": 20,
          "symbol": "triangle-down"
         },
         "mode": "markers",
         "showlegend": false,
         "type": "scatter",
         "x": [
          200,
          600
         ],
         "y": [
          73.845,
          73.845
         ]
        },
        {
         "marker": {
          "color": "blue",
          "size": 20,
          "symbol": "hexagon"
         },
         "mode": "markers",
         "showlegend": false,
         "type": "scatter",
         "x": [
          200,
          400
         ],
         "y": [
          71.415,
          71.415
         ]
        }
       ],
       "layout": {
        "annotations": [
         {
          "font": {
           "color": "gray",
           "size": 25
          },
          "showarrow": false,
          "text": "360k",
          "x": 170,
          "y": 80.06
         },
         {
          "font": {
           "color": "gray",
           "size": 25
          },
          "showarrow": false,
          "text": "240k",
          "x": 170,
          "y": 78.96
         },
         {
          "font": {
           "color": "gray",
           "size": 25
          },
          "showarrow": false,
          "text": "180k",
          "x": 170,
          "y": 77.87
         },
         {
          "font": {
           "color": "gray",
           "size": 25
          },
          "showarrow": false,
          "text": "120k",
          "x": 170,
          "y": 75.88
         },
         {
          "font": {
           "color": "gray",
           "size": 25
          },
          "showarrow": false,
          "text": "90k",
          "x": 170,
          "y": 74.15
         },
         {
          "font": {
           "color": "gray",
           "size": 25
          },
          "showarrow": false,
          "text": "60k",
          "x": 170,
          "y": 71.72
         }
        ],
        "font": {
         "size": 30
        },
        "height": 800,
        "legend": {
         "bgcolor": "rgba(255, 255, 255, 0.5)",
         "bordercolor": "rgb(128, 128, 128)",
         "title": {
          "text": "Samples <br>per task (m)"
         },
         "x": 1,
         "xanchor": "right",
         "y": 0.1,
         "yanchor": "bottom"
        },
        "plot_bgcolor": "white",
        "shapes": [
         {
          "line": {
           "color": "gray",
           "dash": "dash",
           "width": 2
          },
          "type": "line",
          "x0": 0,
          "x1": 1,
          "xref": "paper",
          "y0": 79.77,
          "y1": 79.77,
          "yref": "y"
         },
         {
          "line": {
           "color": "gray",
           "dash": "dash",
           "width": 2
          },
          "type": "line",
          "x0": 0,
          "x1": 1,
          "xref": "paper",
          "y0": 78.67,
          "y1": 78.67,
          "yref": "y"
         },
         {
          "line": {
           "color": "gray",
           "dash": "dash",
           "width": 2
          },
          "type": "line",
          "x0": 0,
          "x1": 1,
          "xref": "paper",
          "y0": 77.58,
          "y1": 77.58,
          "yref": "y"
         },
         {
          "line": {
           "color": "gray",
           "dash": "dash",
           "width": 2
          },
          "type": "line",
          "x0": 0,
          "x1": 1,
          "xref": "paper",
          "y0": 75.59,
          "y1": 75.59,
          "yref": "y"
         },
         {
          "line": {
           "color": "gray",
           "dash": "dash",
           "width": 2
          },
          "type": "line",
          "x0": 0,
          "x1": 1,
          "xref": "paper",
          "y0": 73.845,
          "y1": 73.845,
          "yref": "y"
         },
         {
          "line": {
           "color": "gray",
           "dash": "dash",
           "width": 2
          },
          "type": "line",
          "x0": 0,
          "x1": 1,
          "xref": "paper",
          "y0": 71.415,
          "y1": 71.415,
          "yref": "y"
         }
        ],
        "template": {
         "data": {
          "bar": [
           {
            "error_x": {
             "color": "#2a3f5f"
            },
            "error_y": {
             "color": "#2a3f5f"
            },
            "marker": {
             "line": {
              "color": "#E5ECF6",
              "width": 0.5
             },
             "pattern": {
              "fillmode": "overlay",
              "size": 10,
              "solidity": 0.2
             }
            },
            "type": "bar"
           }
          ],
          "barpolar": [
           {
            "marker": {
             "line": {
              "color": "#E5ECF6",
              "width": 0.5
             },
             "pattern": {
              "fillmode": "overlay",
              "size": 10,
              "solidity": 0.2
             }
            },
            "type": "barpolar"
           }
          ],
          "carpet": [
           {
            "aaxis": {
             "endlinecolor": "#2a3f5f",
             "gridcolor": "white",
             "linecolor": "white",
             "minorgridcolor": "white",
             "startlinecolor": "#2a3f5f"
            },
            "baxis": {
             "endlinecolor": "#2a3f5f",
             "gridcolor": "white",
             "linecolor": "white",
             "minorgridcolor": "white",
             "startlinecolor": "#2a3f5f"
            },
            "type": "carpet"
           }
          ],
          "choropleth": [
           {
            "colorbar": {
             "outlinewidth": 0,
             "ticks": ""
            },
            "type": "choropleth"
           }
          ],
          "contour": [
           {
            "colorbar": {
             "outlinewidth": 0,
             "ticks": ""
            },
            "colorscale": [
             [
              0,
              "#0d0887"
             ],
             [
              0.1111111111111111,
              "#46039f"
             ],
             [
              0.2222222222222222,
              "#7201a8"
             ],
             [
              0.3333333333333333,
              "#9c179e"
             ],
             [
              0.4444444444444444,
              "#bd3786"
             ],
             [
              0.5555555555555556,
              "#d8576b"
             ],
             [
              0.6666666666666666,
              "#ed7953"
             ],
             [
              0.7777777777777778,
              "#fb9f3a"
             ],
             [
              0.8888888888888888,
              "#fdca26"
             ],
             [
              1,
              "#f0f921"
             ]
            ],
            "type": "contour"
           }
          ],
          "contourcarpet": [
           {
            "colorbar": {
             "outlinewidth": 0,
             "ticks": ""
            },
            "type": "contourcarpet"
           }
          ],
          "heatmap": [
           {
            "colorbar": {
             "outlinewidth": 0,
             "ticks": ""
            },
            "colorscale": [
             [
              0,
              "#0d0887"
             ],
             [
              0.1111111111111111,
              "#46039f"
             ],
             [
              0.2222222222222222,
              "#7201a8"
             ],
             [
              0.3333333333333333,
              "#9c179e"
             ],
             [
              0.4444444444444444,
              "#bd3786"
             ],
             [
              0.5555555555555556,
              "#d8576b"
             ],
             [
              0.6666666666666666,
              "#ed7953"
             ],
             [
              0.7777777777777778,
              "#fb9f3a"
             ],
             [
              0.8888888888888888,
              "#fdca26"
             ],
             [
              1,
              "#f0f921"
             ]
            ],
            "type": "heatmap"
           }
          ],
          "heatmapgl": [
           {
            "colorbar": {
             "outlinewidth": 0,
             "ticks": ""
            },
            "colorscale": [
             [
              0,
              "#0d0887"
             ],
             [
              0.1111111111111111,
              "#46039f"
             ],
             [
              0.2222222222222222,
              "#7201a8"
             ],
             [
              0.3333333333333333,
              "#9c179e"
             ],
             [
              0.4444444444444444,
              "#bd3786"
             ],
             [
              0.5555555555555556,
              "#d8576b"
             ],
             [
              0.6666666666666666,
              "#ed7953"
             ],
             [
              0.7777777777777778,
              "#fb9f3a"
             ],
             [
              0.8888888888888888,
              "#fdca26"
             ],
             [
              1,
              "#f0f921"
             ]
            ],
            "type": "heatmapgl"
           }
          ],
          "histogram": [
           {
            "marker": {
             "pattern": {
              "fillmode": "overlay",
              "size": 10,
              "solidity": 0.2
             }
            },
            "type": "histogram"
           }
          ],
          "histogram2d": [
           {
            "colorbar": {
             "outlinewidth": 0,
             "ticks": ""
            },
            "colorscale": [
             [
              0,
              "#0d0887"
             ],
             [
              0.1111111111111111,
              "#46039f"
             ],
             [
              0.2222222222222222,
              "#7201a8"
             ],
             [
              0.3333333333333333,
              "#9c179e"
             ],
             [
              0.4444444444444444,
              "#bd3786"
             ],
             [
              0.5555555555555556,
              "#d8576b"
             ],
             [
              0.6666666666666666,
              "#ed7953"
             ],
             [
              0.7777777777777778,
              "#fb9f3a"
             ],
             [
              0.8888888888888888,
              "#fdca26"
             ],
             [
              1,
              "#f0f921"
             ]
            ],
            "type": "histogram2d"
           }
          ],
          "histogram2dcontour": [
           {
            "colorbar": {
             "outlinewidth": 0,
             "ticks": ""
            },
            "colorscale": [
             [
              0,
              "#0d0887"
             ],
             [
              0.1111111111111111,
              "#46039f"
             ],
             [
              0.2222222222222222,
              "#7201a8"
             ],
             [
              0.3333333333333333,
              "#9c179e"
             ],
             [
              0.4444444444444444,
              "#bd3786"
             ],
             [
              0.5555555555555556,
              "#d8576b"
             ],
             [
              0.6666666666666666,
              "#ed7953"
             ],
             [
              0.7777777777777778,
              "#fb9f3a"
             ],
             [
              0.8888888888888888,
              "#fdca26"
             ],
             [
              1,
              "#f0f921"
             ]
            ],
            "type": "histogram2dcontour"
           }
          ],
          "mesh3d": [
           {
            "colorbar": {
             "outlinewidth": 0,
             "ticks": ""
            },
            "type": "mesh3d"
           }
          ],
          "parcoords": [
           {
            "line": {
             "colorbar": {
              "outlinewidth": 0,
              "ticks": ""
             }
            },
            "type": "parcoords"
           }
          ],
          "pie": [
           {
            "automargin": true,
            "type": "pie"
           }
          ],
          "scatter": [
           {
            "fillpattern": {
             "fillmode": "overlay",
             "size": 10,
             "solidity": 0.2
            },
            "type": "scatter"
           }
          ],
          "scatter3d": [
           {
            "line": {
             "colorbar": {
              "outlinewidth": 0,
              "ticks": ""
             }
            },
            "marker": {
             "colorbar": {
              "outlinewidth": 0,
              "ticks": ""
             }
            },
            "type": "scatter3d"
           }
          ],
          "scattercarpet": [
           {
            "marker": {
             "colorbar": {
              "outlinewidth": 0,
              "ticks": ""
             }
            },
            "type": "scattercarpet"
           }
          ],
          "scattergeo": [
           {
            "marker": {
             "colorbar": {
              "outlinewidth": 0,
              "ticks": ""
             }
            },
            "type": "scattergeo"
           }
          ],
          "scattergl": [
           {
            "marker": {
             "colorbar": {
              "outlinewidth": 0,
              "ticks": ""
             }
            },
            "type": "scattergl"
           }
          ],
          "scattermapbox": [
           {
            "marker": {
             "colorbar": {
              "outlinewidth": 0,
              "ticks": ""
             }
            },
            "type": "scattermapbox"
           }
          ],
          "scatterpolar": [
           {
            "marker": {
             "colorbar": {
              "outlinewidth": 0,
              "ticks": ""
             }
            },
            "type": "scatterpolar"
           }
          ],
          "scatterpolargl": [
           {
            "marker": {
             "colorbar": {
              "outlinewidth": 0,
              "ticks": ""
             }
            },
            "type": "scatterpolargl"
           }
          ],
          "scatterternary": [
           {
            "marker": {
             "colorbar": {
              "outlinewidth": 0,
              "ticks": ""
             }
            },
            "type": "scatterternary"
           }
          ],
          "surface": [
           {
            "colorbar": {
             "outlinewidth": 0,
             "ticks": ""
            },
            "colorscale": [
             [
              0,
              "#0d0887"
             ],
             [
              0.1111111111111111,
              "#46039f"
             ],
             [
              0.2222222222222222,
              "#7201a8"
             ],
             [
              0.3333333333333333,
              "#9c179e"
             ],
             [
              0.4444444444444444,
              "#bd3786"
             ],
             [
              0.5555555555555556,
              "#d8576b"
             ],
             [
              0.6666666666666666,
              "#ed7953"
             ],
             [
              0.7777777777777778,
              "#fb9f3a"
             ],
             [
              0.8888888888888888,
              "#fdca26"
             ],
             [
              1,
              "#f0f921"
             ]
            ],
            "type": "surface"
           }
          ],
          "table": [
           {
            "cells": {
             "fill": {
              "color": "#EBF0F8"
             },
             "line": {
              "color": "white"
             }
            },
            "header": {
             "fill": {
              "color": "#C8D4E3"
             },
             "line": {
              "color": "white"
             }
            },
            "type": "table"
           }
          ]
         },
         "layout": {
          "annotationdefaults": {
           "arrowcolor": "#2a3f5f",
           "arrowhead": 0,
           "arrowwidth": 1
          },
          "autotypenumbers": "strict",
          "coloraxis": {
           "colorbar": {
            "outlinewidth": 0,
            "ticks": ""
           }
          },
          "colorscale": {
           "diverging": [
            [
             0,
             "#8e0152"
            ],
            [
             0.1,
             "#c51b7d"
            ],
            [
             0.2,
             "#de77ae"
            ],
            [
             0.3,
             "#f1b6da"
            ],
            [
             0.4,
             "#fde0ef"
            ],
            [
             0.5,
             "#f7f7f7"
            ],
            [
             0.6,
             "#e6f5d0"
            ],
            [
             0.7,
             "#b8e186"
            ],
            [
             0.8,
             "#7fbc41"
            ],
            [
             0.9,
             "#4d9221"
            ],
            [
             1,
             "#276419"
            ]
           ],
           "sequential": [
            [
             0,
             "#0d0887"
            ],
            [
             0.1111111111111111,
             "#46039f"
            ],
            [
             0.2222222222222222,
             "#7201a8"
            ],
            [
             0.3333333333333333,
             "#9c179e"
            ],
            [
             0.4444444444444444,
             "#bd3786"
            ],
            [
             0.5555555555555556,
             "#d8576b"
            ],
            [
             0.6666666666666666,
             "#ed7953"
            ],
            [
             0.7777777777777778,
             "#fb9f3a"
            ],
            [
             0.8888888888888888,
             "#fdca26"
            ],
            [
             1,
             "#f0f921"
            ]
           ],
           "sequentialminus": [
            [
             0,
             "#0d0887"
            ],
            [
             0.1111111111111111,
             "#46039f"
            ],
            [
             0.2222222222222222,
             "#7201a8"
            ],
            [
             0.3333333333333333,
             "#9c179e"
            ],
            [
             0.4444444444444444,
             "#bd3786"
            ],
            [
             0.5555555555555556,
             "#d8576b"
            ],
            [
             0.6666666666666666,
             "#ed7953"
            ],
            [
             0.7777777777777778,
             "#fb9f3a"
            ],
            [
             0.8888888888888888,
             "#fdca26"
            ],
            [
             1,
             "#f0f921"
            ]
           ]
          },
          "colorway": [
           "#636efa",
           "#EF553B",
           "#00cc96",
           "#ab63fa",
           "#FFA15A",
           "#19d3f3",
           "#FF6692",
           "#B6E880",
           "#FF97FF",
           "#FECB52"
          ],
          "font": {
           "color": "#2a3f5f"
          },
          "geo": {
           "bgcolor": "white",
           "lakecolor": "white",
           "landcolor": "#E5ECF6",
           "showlakes": true,
           "showland": true,
           "subunitcolor": "white"
          },
          "hoverlabel": {
           "align": "left"
          },
          "hovermode": "closest",
          "mapbox": {
           "style": "light"
          },
          "paper_bgcolor": "white",
          "plot_bgcolor": "#E5ECF6",
          "polar": {
           "angularaxis": {
            "gridcolor": "white",
            "linecolor": "white",
            "ticks": ""
           },
           "bgcolor": "#E5ECF6",
           "radialaxis": {
            "gridcolor": "white",
            "linecolor": "white",
            "ticks": ""
           }
          },
          "scene": {
           "xaxis": {
            "backgroundcolor": "#E5ECF6",
            "gridcolor": "white",
            "gridwidth": 2,
            "linecolor": "white",
            "showbackground": true,
            "ticks": "",
            "zerolinecolor": "white"
           },
           "yaxis": {
            "backgroundcolor": "#E5ECF6",
            "gridcolor": "white",
            "gridwidth": 2,
            "linecolor": "white",
            "showbackground": true,
            "ticks": "",
            "zerolinecolor": "white"
           },
           "zaxis": {
            "backgroundcolor": "#E5ECF6",
            "gridcolor": "white",
            "gridwidth": 2,
            "linecolor": "white",
            "showbackground": true,
            "ticks": "",
            "zerolinecolor": "white"
           }
          },
          "shapedefaults": {
           "line": {
            "color": "#2a3f5f"
           }
          },
          "ternary": {
           "aaxis": {
            "gridcolor": "white",
            "linecolor": "white",
            "ticks": ""
           },
           "baxis": {
            "gridcolor": "white",
            "linecolor": "white",
            "ticks": ""
           },
           "bgcolor": "#E5ECF6",
           "caxis": {
            "gridcolor": "white",
            "linecolor": "white",
            "ticks": ""
           }
          },
          "title": {
           "x": 0.05
          },
          "xaxis": {
           "automargin": true,
           "gridcolor": "white",
           "linecolor": "white",
           "ticks": "",
           "title": {
            "standoff": 15
           },
           "zerolinecolor": "white",
           "zerolinewidth": 2
          },
          "yaxis": {
           "automargin": true,
           "gridcolor": "white",
           "linecolor": "white",
           "ticks": "",
           "title": {
            "standoff": 15
           },
           "zerolinecolor": "white",
           "zerolinewidth": 2
          }
         }
        },
        "width": 800,
        "xaxis": {
         "range": [
          130,
          850
         ],
         "tickvals": [
          0,
          100,
          200,
          300,
          400,
          500,
          600,
          700,
          800,
          900
         ],
         "title": {
          "text": "Number of tasks (M)"
         }
        },
        "yaxis": {
         "tickvals": [
          70,
          75,
          80,
          85
         ],
         "title": {
          "text": "Accuracy"
         }
        }
       }
      }
     },
     "metadata": {},
     "output_type": "display_data"
    }
   ],
   "source": [
    "df = pd.DataFrame({\"M\": [200,200,200,200,400,400,400,400,600,600,600,600,800,800,800,800], \n",
    "                   \"m\": [150,300,450,600,150,300,450,600,150,300,450,600,150,300,450,600],\n",
    "                  \"Accuracy\": [68.32, 71.42, 73.84, 75.58, \n",
    "                                71.41, 75.60, 77.57, 78.66,\n",
    "                                73.85, 77.59, 79.04, 79.76,\n",
    "                                75.56, 78.68, 79.78, 80.26]}\n",
    "                )\n",
    "\n",
    "\n",
    "\n",
    "import plotly.graph_objects as go\n",
    "\n",
    "# Prepare data\n",
    "unique_m = df['m'].unique()\n",
    "data = []\n",
    "for m in unique_m:\n",
    "    df_m = df[df['m'] == m]\n",
    "    trace = go.Scatter(\n",
    "        x=df_m['M'], \n",
    "        y=df_m['Accuracy'], \n",
    "        mode='markers+lines', \n",
    "        name=f'{m}',\n",
    "        marker=dict(size=12),\n",
    "        line=dict(width=3)\n",
    "    )\n",
    "    data.append(trace)\n",
    "\n",
    "# Manually add markers\n",
    "manual_marker1 = go.Scatter(x=[600, 800], y=[79.77, 79.77], mode='markers', marker=dict(size=20, symbol='square', color='blue'), showlegend=False)\n",
    "manual_marker2 = go.Scatter(x=[400, 800], y=[78.67, 78.67], mode='markers', marker=dict(size=20, symbol='diamond', color='blue'), showlegend=False)\n",
    "manual_marker3 = go.Scatter(x=[400, 600], y=[77.58, 77.58], mode='markers', marker=dict(size=20, symbol='triangle-up', color='blue'), showlegend=False)\n",
    "manual_marker4 = go.Scatter(x=[200, 400, 800], y=[75.59, 75.59, 75.59], mode='markers', marker=dict(size=20, symbol='star', color='blue'), showlegend=False)\n",
    "manual_marker5 = go.Scatter(x=[200, 600], y=[73.845, 73.845], mode='markers', marker=dict(size=20, symbol='triangle-down', color='blue'), showlegend=False)\n",
    "manual_marker6 = go.Scatter(x=[200, 400], y=[71.415, 71.415], mode='markers', marker=dict(size=20, symbol='hexagon', color='blue'), showlegend=False)\n",
    "\n",
    "# Add these markers to your data list\n",
    "data.append(manual_marker1)\n",
    "data.append(manual_marker2)\n",
    "data.append(manual_marker3)\n",
    "data.append(manual_marker4)\n",
    "data.append(manual_marker5)\n",
    "data.append(manual_marker6)\n",
    "\n",
    "# # Create a scatter plot for the rug\n",
    "# rug_x = go.Scatter(\n",
    "#     x=df['M'],  # replace this with your data\n",
    "#     y=np.repeat(0, len(df)),  # replace this with the appropriate length for your data\n",
    "#     mode='markers',\n",
    "#     marker=dict(\n",
    "#         color='black',\n",
    "#         size=6,\n",
    "#         symbol='line-ns-open'\n",
    "#     ),\n",
    "#     showlegend=False\n",
    "# )\n",
    "\n",
    "# # Add the rug to your data list\n",
    "# data.append(rug_x)\n",
    "\n",
    "\n",
    "# Create a figure\n",
    "fig = go.Figure(data)\n",
    "\n",
    "# Update layout\n",
    "fig.update_layout(\n",
    "    xaxis_title=\"Number of tasks (M)\",\n",
    "    yaxis_title=\"Accuracy\",\n",
    "    legend_title=\"Samples <br>per task (m)\",\n",
    "    legend=dict(\n",
    "        yanchor=\"bottom\",\n",
    "        y=0.1,\n",
    "        xanchor=\"right\",\n",
    "        x=1,\n",
    "        bgcolor='rgba(255, 255, 255, 0.5)',  # Set the background color with transparency\n",
    "        bordercolor='rgb(128, 128, 128)',  # Set the border color with transparency\n",
    "    ),\n",
    "    font=dict(size=30),\n",
    "    height=800,\n",
    "    width=800,\n",
    "    xaxis_range=[130,850],\n",
    "    plot_bgcolor='white',\n",
    "    # paper_bgcolor=\"gray\",\n",
    "    # autosize=False,\n",
    "    # margin=dict(\n",
    "    #     l=10,  # left margin\n",
    "    #     r=10,  # right margin\n",
    "    #     b=10,  # bottom margin\n",
    "    #     t=10,  # top margin\n",
    "    #     pad=10  # padding\n",
    "    # ),\n",
    "    annotations=[\n",
    "        dict(x=170, y=80.06, text=\"360k\", showarrow=False, font=dict(size=25, color=\"gray\")),\n",
    "        dict(x=170, y=78.96, text=\"240k\", showarrow=False, font=dict(size=25, color=\"gray\")),\n",
    "        dict(x=170, y=77.87, text=\"180k\", showarrow=False, font=dict(size=25, color=\"gray\")),\n",
    "        dict(x=170, y=75.88, text=\"120k\", showarrow=False, font=dict(size=25, color=\"gray\")),\n",
    "        dict(x=170, y=74.15, text=\"90k\", showarrow=False, font=dict(size=25, color=\"gray\")),\n",
    "        dict(x=170, y=71.72, text=\"60k\", showarrow=False, font=dict(size=25, color=\"gray\")),\n",
    "    ],\n",
    "    shapes=[\n",
    "        dict(type='line', yref='y', y0=79.77, y1=79.77, xref='paper', x0=0, x1=1, line=dict(color='gray', dash='dash', width=2)),\n",
    "        dict(type='line', yref='y', y0=78.67, y1=78.67, xref='paper', x0=0, x1=1, line=dict(color='gray', dash='dash', width=2)),\n",
    "        dict(type='line', yref='y', y0=77.58, y1=77.58, xref='paper', x0=0, x1=1, line=dict(color='gray', dash='dash', width=2)),\n",
    "        dict(type='line', yref='y', y0=75.59, y1=75.59, xref='paper', x0=0, x1=1, line=dict(color='gray', dash='dash', width=2)),\n",
    "        dict(type='line', yref='y', y0=73.845, y1=73.845, xref='paper', x0=0, x1=1, line=dict(color='gray', dash='dash', width=2)),\n",
    "        dict(type='line', yref='y', y0=71.415, y1=71.415, xref='paper', x0=0, x1=1, line=dict(color='gray', dash='dash', width=2)),\n",
    "    ],\n",
    ")\n",
    "\n",
    "# Set x and y axis ticks\n",
    "fig.update_xaxes(tickvals=list(range(0, 1000, 100))) # From 0 to 1000 with a step of 100\n",
    "fig.update_yaxes(tickvals=list(range(70, 90, 5))) # From 70 to 90 with a step of 5\n",
    "\n",
    "\n",
    "fig.show()\n"
   ]
  },
  {
   "cell_type": "code",
   "execution_count": null,
   "metadata": {},
   "outputs": [],
   "source": []
  },
  {
   "cell_type": "code",
   "execution_count": null,
   "metadata": {},
   "outputs": [],
   "source": []
  },
  {
   "attachments": {},
   "cell_type": "markdown",
   "metadata": {},
   "source": [
    "# style 2"
   ]
  },
  {
   "cell_type": "code",
   "execution_count": 152,
   "metadata": {},
   "outputs": [
    {
     "name": "stderr",
     "output_type": "stream",
     "text": [
      "/var/folders/ty/jhblv1051_98fkjk78b04ty80000gn/T/ipykernel_59830/1318781450.py:15: UserWarning:\n",
      "\n",
      "\n",
      "The markers list has fewer values (1) than needed (4) and will cycle, which may produce an uninterpretable plot.\n",
      "\n"
     ]
    },
    {
     "data": {
      "image/png": "[encoded data removed]",
      "text/plain": [
       "<Figure size 1000x1000 with 1 Axes>"
      ]
     },
     "metadata": {},
     "output_type": "display_data"
    }
   ],
   "source": [
    "import seaborn as sns\n",
    "import matplotlib.pyplot as plt\n",
    "import numpy as np\n",
    "df = pd.DataFrame({\"M\": [200,200,200,200,400,400,400,400,600,600,600,600,800,800,800,800], \n",
    "                   \"m\": [150,300,450,600,150,300,450,600,150,300,450,600,150,300,450,600],\n",
    "                  \"Accuracy\": [68.32, 71.42, 73.84, 75.58, \n",
    "                                71.41, 75.60, 77.57, 78.66,\n",
    "                                73.85, 77.59, 79.04, 79.76,\n",
    "                                75.56, 78.68, 79.78, 80.26]}\n",
    "                )\n",
    "df['m'] = df['m'].astype('category')\n",
    "# Create a line plot with markers\n",
    "sns.set(style=\"white\")\n",
    "plt.figure(figsize=(10,10))  # Set the size of the plot\n",
    "ax = sns.lineplot(data=df, x='M', y='Accuracy', hue='m', style='m', markers='^', dashes=False, linewidth = 2.5, markersize = 8)\n",
    "\n",
    "# Add rug plot\n",
    "sns.rugplot(data=df, x='M', ax=ax, color='black', height = 0.01)\n",
    "\n",
    "# Set plot properties\n",
    "ax.set_xlabel(\"Number of tasks (M)\", fontsize=30)\n",
    "ax.set_ylabel(\"Accuracy (%)\", fontsize=30)\n",
    "# Set x and y axis ticks\n",
    "ax.set_xticks(range(0, 1000, 100)) # From 0 to 1000 with a step of 100\n",
    "ax.set_yticks(range(70, 90, 5)) # From 70 to 90 with a step of 5\n",
    "ax.tick_params(labelsize=30)\n",
    "plt.legend(title='Samples per task (m)', title_fontsize='20', fontsize='18')\n",
    "\n",
    "# Add horizontal lines\n",
    "plt.axhline(y=79.77, color='gray', linestyle='--')\n",
    "plt.axhline(y=78.67, color='gray', linestyle='--')\n",
    "plt.axhline(y=77.58, color='gray', linestyle='--')\n",
    "plt.axhline(y=75.59, color='gray', linestyle='--')\n",
    "plt.axhline(y=73.845, color='gray', linestyle='--')\n",
    "plt.axhline(y=71.415, color='gray', linestyle='--')\n",
    "\n",
    "# Add text annotations\n",
    "plt.text(183, 80.06, '360k', color='gray', fontsize=25)\n",
    "plt.text(183, 78.96, '240k', color='gray', fontsize=25)\n",
    "plt.text(180, 77.87, '180k', color='gray', fontsize=25)\n",
    "plt.text(180, 75.98, '120k', color='gray', fontsize=25)\n",
    "plt.text(180, 74.25, '90k', color='gray', fontsize=25)\n",
    "plt.text(180, 71.82, '60k', color='gray', fontsize=25)\n",
    "\n",
    "markercolor = 'gray'\n",
    "ax.plot(600, 79.77, marker='s', markersize=17, label='Manual Marker 1', color=markercolor)\n",
    "ax.plot(800, 79.77, marker='s', markersize=17, label='Manual Marker 1', color=markercolor)\n",
    "\n",
    "ax.plot(400, 78.67, marker='D', markersize=15, label='Manual Marker 1', color=markercolor)\n",
    "ax.plot(800, 78.67, marker='D', markersize=15, label='Manual Marker 1', color=markercolor)\n",
    "\n",
    "ax.plot(400, 77.58, marker='^', markersize=18, label='Manual Marker 1', color=markercolor)\n",
    "ax.plot(600, 77.58, marker='^', markersize=18, label='Manual Marker 1', color=markercolor)\n",
    "\n",
    "\n",
    "ax.plot(200, 75.59, marker='*', markersize=20, label='Manual Marker 1', color=markercolor)\n",
    "ax.plot(400, 75.59, marker='*', markersize=20, label='Manual Marker 1', color=markercolor)\n",
    "ax.plot(800, 75.59, marker='*', markersize=20, label='Manual Marker 1', color=markercolor)\n",
    "\n",
    "ax.plot(200, 73.845, marker='v', markersize=18, label='Manual Marker 1', color=markercolor)\n",
    "ax.plot(600, 73.845, marker='v', markersize=18, label='Manual Marker 1', color=markercolor)\n",
    "\n",
    "ax.plot(200, 71.415, marker='H', markersize=18, label='Manual Marker 1', color=markercolor)\n",
    "ax.plot(400, 71.415, marker='H', markersize=18, label='Manual Marker 1', color=markercolor)\n",
    "# Show the plot\n",
    "plt.show()\n",
    "\n",
    "fig = ax.get_figure()\n",
    "fig.savefig(\"numshot_v1.pdf\", bbox_inches='tight')\n"
   ]
  },
  {
   "cell_type": "code",
   "execution_count": null,
   "metadata": {},
   "outputs": [],
   "source": []
  },
  {
   "cell_type": "code",
   "execution_count": 153,
   "metadata": {},
   "outputs": [
    {
     "data": {
      "text/plain": [
       "0.3531187122736418"
      ]
     },
     "execution_count": 153,
     "metadata": {},
     "output_type": "execute_result"
    }
   ],
   "source": [
    "(67.25 - 49.70)/49.70"
   ]
  },
  {
   "cell_type": "code",
   "execution_count": 154,
   "metadata": {},
   "outputs": [
    {
     "data": {
      "text/plain": [
       "0.10656934306569343"
      ]
     },
     "execution_count": 154,
     "metadata": {},
     "output_type": "execute_result"
    }
   ],
   "source": [
    "(68.22-61.65)/61.65"
   ]
  },
  {
   "cell_type": "code",
   "execution_count": 155,
   "metadata": {},
   "outputs": [
    {
     "data": {
      "text/plain": [
       "0.04134106377615328"
      ]
     },
     "execution_count": 155,
     "metadata": {},
     "output_type": "execute_result"
    }
   ],
   "source": [
    "(82.62-79.34)/79.34"
   ]
  },
  {
   "attachments": {},
   "cell_type": "markdown",
   "metadata": {},
   "source": [
    "## Vary num shot"
   ]
  },
  {
   "attachments": {},
   "cell_type": "markdown",
   "metadata": {},
   "source": [
    "## style 1"
   ]
  },
  {
   "cell_type": "code",
   "execution_count": 72,
   "metadata": {},
   "outputs": [],
   "source": []
  },
  {
   "cell_type": "code",
   "execution_count": 103,
   "metadata": {},
   "outputs": [
    {
     "data": {
      "application/vnd.plotly.v1+json": {
       "config": {
        "plotlyServerURL": "https://plot.ly"
       },
       "data": [
        {
         "hovertemplate": "M*m(k)=10k<br>shot=%{x}<br>Accuracy=%{y}<extra></extra>",
         "legendgroup": "10k",
         "line": {
          "color": "#636efa",
          "dash": "solid",
          "width": 3
         },
         "marker": {
          "size": 12,
          "symbol": "circle"
         },
         "mode": "lines+markers",
         "name": "10k",
         "orientation": "v",
         "showlegend": true,
         "textposition": "top left",
         "type": "scatter",
         "x": [
          1,
          2,
          3,
          4
         ],
         "xaxis": "x",
         "y": [
          77.28,
          77.3,
          77.35,
          77.32
         ],
         "yaxis": "y"
        },
        {
         "hovertemplate": "M*m(k)=20k<br>shot=%{x}<br>Accuracy=%{y}<extra></extra>",
         "legendgroup": "20k",
         "line": {
          "color": "#EF553B",
          "dash": "solid",
          "width": 3
         },
         "marker": {
          "size": 12,
          "symbol": "circle"
         },
         "mode": "lines+markers",
         "name": "20k",
         "orientation": "v",
         "showlegend": true,
         "textposition": "top left",
         "type": "scatter",
         "x": [
          1,
          2,
          3,
          4
         ],
         "xaxis": "x",
         "y": [
          78.05,
          78.2,
          78.2,
          78.19
         ],
         "yaxis": "y"
        },
        {
         "hovertemplate": "M*m(k)=40k<br>shot=%{x}<br>Accuracy=%{y}<extra></extra>",
         "legendgroup": "40k",
         "line": {
          "color": "#00cc96",
          "dash": "solid",
          "width": 3
         },
         "marker": {
          "size": 12,
          "symbol": "circle"
         },
         "mode": "lines+markers",
         "name": "40k",
         "orientation": "v",
         "showlegend": true,
         "textposition": "top left",
         "type": "scatter",
         "x": [
          1,
          2,
          3,
          4
         ],
         "xaxis": "x",
         "y": [
          79.75,
          79.65,
          79.57,
          79.51
         ],
         "yaxis": "y"
        }
       ],
       "layout": {
        "font": {
         "size": 24
        },
        "height": 800,
        "legend": {
         "bgcolor": "rgba(255, 255, 255, 0.5)",
         "bordercolor": "rgb(128, 128, 128)",
         "title": {
          "text": "Total sample <br>size M*m"
         },
         "tracegroupgap": 0,
         "x": 1,
         "xanchor": "right",
         "y": 0.1,
         "yanchor": "bottom"
        },
        "margin": {
         "t": 60
        },
        "plot_bgcolor": "white",
        "template": {
         "data": {
          "bar": [
           {
            "error_x": {
             "color": "#2a3f5f"
            },
            "error_y": {
             "color": "#2a3f5f"
            },
            "marker": {
             "line": {
              "color": "#E5ECF6",
              "width": 0.5
             },
             "pattern": {
              "fillmode": "overlay",
              "size": 10,
              "solidity": 0.2
             }
            },
            "type": "bar"
           }
          ],
          "barpolar": [
           {
            "marker": {
             "line": {
              "color": "#E5ECF6",
              "width": 0.5
             },
             "pattern": {
              "fillmode": "overlay",
              "size": 10,
              "solidity": 0.2
             }
            },
            "type": "barpolar"
           }
          ],
          "carpet": [
           {
            "aaxis": {
             "endlinecolor": "#2a3f5f",
             "gridcolor": "white",
             "linecolor": "white",
             "minorgridcolor": "white",
             "startlinecolor": "#2a3f5f"
            },
            "baxis": {
             "endlinecolor": "#2a3f5f",
             "gridcolor": "white",
             "linecolor": "white",
             "minorgridcolor": "white",
             "startlinecolor": "#2a3f5f"
            },
            "type": "carpet"
           }
          ],
          "choropleth": [
           {
            "colorbar": {
             "outlinewidth": 0,
             "ticks": ""
            },
            "type": "choropleth"
           }
          ],
          "contour": [
           {
            "colorbar": {
             "outlinewidth": 0,
             "ticks": ""
            },
            "colorscale": [
             [
              0,
              "#0d0887"
             ],
             [
              0.1111111111111111,
              "#46039f"
             ],
             [
              0.2222222222222222,
              "#7201a8"
             ],
             [
              0.3333333333333333,
              "#9c179e"
             ],
             [
              0.4444444444444444,
              "#bd3786"
             ],
             [
              0.5555555555555556,
              "#d8576b"
             ],
             [
              0.6666666666666666,
              "#ed7953"
             ],
             [
              0.7777777777777778,
              "#fb9f3a"
             ],
             [
              0.8888888888888888,
              "#fdca26"
             ],
             [
              1,
              "#f0f921"
             ]
            ],
            "type": "contour"
           }
          ],
          "contourcarpet": [
           {
            "colorbar": {
             "outlinewidth": 0,
             "ticks": ""
            },
            "type": "contourcarpet"
           }
          ],
          "heatmap": [
           {
            "colorbar": {
             "outlinewidth": 0,
             "ticks": ""
            },
            "colorscale": [
             [
              0,
              "#0d0887"
             ],
             [
              0.1111111111111111,
              "#46039f"
             ],
             [
              0.2222222222222222,
              "#7201a8"
             ],
             [
              0.3333333333333333,
              "#9c179e"
             ],
             [
              0.4444444444444444,
              "#bd3786"
             ],
             [
              0.5555555555555556,
              "#d8576b"
             ],
             [
              0.6666666666666666,
              "#ed7953"
             ],
             [
              0.7777777777777778,
              "#fb9f3a"
             ],
             [
              0.8888888888888888,
              "#fdca26"
             ],
             [
              1,
              "#f0f921"
             ]
            ],
            "type": "heatmap"
           }
          ],
          "heatmapgl": [
           {
            "colorbar": {
             "outlinewidth": 0,
             "ticks": ""
            },
            "colorscale": [
             [
              0,
              "#0d0887"
             ],
             [
              0.1111111111111111,
              "#46039f"
             ],
             [
              0.2222222222222222,
              "#7201a8"
             ],
             [
              0.3333333333333333,
              "#9c179e"
             ],
             [
              0.4444444444444444,
              "#bd3786"
             ],
             [
              0.5555555555555556,
              "#d8576b"
             ],
             [
              0.6666666666666666,
              "#ed7953"
             ],
             [
              0.7777777777777778,
              "#fb9f3a"
             ],
             [
              0.8888888888888888,
              "#fdca26"
             ],
             [
              1,
              "#f0f921"
             ]
            ],
            "type": "heatmapgl"
           }
          ],
          "histogram": [
           {
            "marker": {
             "pattern": {
              "fillmode": "overlay",
              "size": 10,
              "solidity": 0.2
             }
            },
            "type": "histogram"
           }
          ],
          "histogram2d": [
           {
            "colorbar": {
             "outlinewidth": 0,
             "ticks": ""
            },
            "colorscale": [
             [
              0,
              "#0d0887"
             ],
             [
              0.1111111111111111,
              "#46039f"
             ],
             [
              0.2222222222222222,
              "#7201a8"
             ],
             [
              0.3333333333333333,
              "#9c179e"
             ],
             [
              0.4444444444444444,
              "#bd3786"
             ],
             [
              0.5555555555555556,
              "#d8576b"
             ],
             [
              0.6666666666666666,
              "#ed7953"
             ],
             [
              0.7777777777777778,
              "#fb9f3a"
             ],
             [
              0.8888888888888888,
              "#fdca26"
             ],
             [
              1,
              "#f0f921"
             ]
            ],
            "type": "histogram2d"
           }
          ],
          "histogram2dcontour": [
           {
            "colorbar": {
             "outlinewidth": 0,
             "ticks": ""
            },
            "colorscale": [
             [
              0,
              "#0d0887"
             ],
             [
              0.1111111111111111,
              "#46039f"
             ],
             [
              0.2222222222222222,
              "#7201a8"
             ],
             [
              0.3333333333333333,
              "#9c179e"
             ],
             [
              0.4444444444444444,
              "#bd3786"
             ],
             [
              0.5555555555555556,
              "#d8576b"
             ],
             [
              0.6666666666666666,
              "#ed7953"
             ],
             [
              0.7777777777777778,
              "#fb9f3a"
             ],
             [
              0.8888888888888888,
              "#fdca26"
             ],
             [
              1,
              "#f0f921"
             ]
            ],
            "type": "histogram2dcontour"
           }
          ],
          "mesh3d": [
           {
            "colorbar": {
             "outlinewidth": 0,
             "ticks": ""
            },
            "type": "mesh3d"
           }
          ],
          "parcoords": [
           {
            "line": {
             "colorbar": {
              "outlinewidth": 0,
              "ticks": ""
             }
            },
            "type": "parcoords"
           }
          ],
          "pie": [
           {
            "automargin": true,
            "type": "pie"
           }
          ],
          "scatter": [
           {
            "fillpattern": {
             "fillmode": "overlay",
             "size": 10,
             "solidity": 0.2
            },
            "type": "scatter"
           }
          ],
          "scatter3d": [
           {
            "line": {
             "colorbar": {
              "outlinewidth": 0,
              "ticks": ""
             }
            },
            "marker": {
             "colorbar": {
              "outlinewidth": 0,
              "ticks": ""
             }
            },
            "type": "scatter3d"
           }
          ],
          "scattercarpet": [
           {
            "marker": {
             "colorbar": {
              "outlinewidth": 0,
              "ticks": ""
             }
            },
            "type": "scattercarpet"
           }
          ],
          "scattergeo": [
           {
            "marker": {
             "colorbar": {
              "outlinewidth": 0,
              "ticks": ""
             }
            },
            "type": "scattergeo"
           }
          ],
          "scattergl": [
           {
            "marker": {
             "colorbar": {
              "outlinewidth": 0,
              "ticks": ""
             }
            },
            "type": "scattergl"
           }
          ],
          "scattermapbox": [
           {
            "marker": {
             "colorbar": {
              "outlinewidth": 0,
              "ticks": ""
             }
            },
            "type": "scattermapbox"
           }
          ],
          "scatterpolar": [
           {
            "marker": {
             "colorbar": {
              "outlinewidth": 0,
              "ticks": ""
             }
            },
            "type": "scatterpolar"
           }
          ],
          "scatterpolargl": [
           {
            "marker": {
             "colorbar": {
              "outlinewidth": 0,
              "ticks": ""
             }
            },
            "type": "scatterpolargl"
           }
          ],
          "scatterternary": [
           {
            "marker": {
             "colorbar": {
              "outlinewidth": 0,
              "ticks": ""
             }
            },
            "type": "scatterternary"
           }
          ],
          "surface": [
           {
            "colorbar": {
             "outlinewidth": 0,
             "ticks": ""
            },
            "colorscale": [
             [
              0,
              "#0d0887"
             ],
             [
              0.1111111111111111,
              "#46039f"
             ],
             [
              0.2222222222222222,
              "#7201a8"
             ],
             [
              0.3333333333333333,
              "#9c179e"
             ],
             [
              0.4444444444444444,
              "#bd3786"
             ],
             [
              0.5555555555555556,
              "#d8576b"
             ],
             [
              0.6666666666666666,
              "#ed7953"
             ],
             [
              0.7777777777777778,
              "#fb9f3a"
             ],
             [
              0.8888888888888888,
              "#fdca26"
             ],
             [
              1,
              "#f0f921"
             ]
            ],
            "type": "surface"
           }
          ],
          "table": [
           {
            "cells": {
             "fill": {
              "color": "#EBF0F8"
             },
             "line": {
              "color": "white"
             }
            },
            "header": {
             "fill": {
              "color": "#C8D4E3"
             },
             "line": {
              "color": "white"
             }
            },
            "type": "table"
           }
          ]
         },
         "layout": {
          "annotationdefaults": {
           "arrowcolor": "#2a3f5f",
           "arrowhead": 0,
           "arrowwidth": 1
          },
          "autotypenumbers": "strict",
          "coloraxis": {
           "colorbar": {
            "outlinewidth": 0,
            "ticks": ""
           }
          },
          "colorscale": {
           "diverging": [
            [
             0,
             "#8e0152"
            ],
            [
             0.1,
             "#c51b7d"
            ],
            [
             0.2,
             "#de77ae"
            ],
            [
             0.3,
             "#f1b6da"
            ],
            [
             0.4,
             "#fde0ef"
            ],
            [
             0.5,
             "#f7f7f7"
            ],
            [
             0.6,
             "#e6f5d0"
            ],
            [
             0.7,
             "#b8e186"
            ],
            [
             0.8,
             "#7fbc41"
            ],
            [
             0.9,
             "#4d9221"
            ],
            [
             1,
             "#276419"
            ]
           ],
           "sequential": [
            [
             0,
             "#0d0887"
            ],
            [
             0.1111111111111111,
             "#46039f"
            ],
            [
             0.2222222222222222,
             "#7201a8"
            ],
            [
             0.3333333333333333,
             "#9c179e"
            ],
            [
             0.4444444444444444,
             "#bd3786"
            ],
            [
             0.5555555555555556,
             "#d8576b"
            ],
            [
             0.6666666666666666,
             "#ed7953"
            ],
            [
             0.7777777777777778,
             "#fb9f3a"
            ],
            [
             0.8888888888888888,
             "#fdca26"
            ],
            [
             1,
             "#f0f921"
            ]
           ],
           "sequentialminus": [
            [
             0,
             "#0d0887"
            ],
            [
             0.1111111111111111,
             "#46039f"
            ],
            [
             0.2222222222222222,
             "#7201a8"
            ],
            [
             0.3333333333333333,
             "#9c179e"
            ],
            [
             0.4444444444444444,
             "#bd3786"
            ],
            [
             0.5555555555555556,
             "#d8576b"
            ],
            [
             0.6666666666666666,
             "#ed7953"
            ],
            [
             0.7777777777777778,
             "#fb9f3a"
            ],
            [
             0.8888888888888888,
             "#fdca26"
            ],
            [
             1,
             "#f0f921"
            ]
           ]
          },
          "colorway": [
           "#636efa",
           "#EF553B",
           "#00cc96",
           "#ab63fa",
           "#FFA15A",
           "#19d3f3",
           "#FF6692",
           "#B6E880",
           "#FF97FF",
           "#FECB52"
          ],
          "font": {
           "color": "#2a3f5f"
          },
          "geo": {
           "bgcolor": "white",
           "lakecolor": "white",
           "landcolor": "#E5ECF6",
           "showlakes": true,
           "showland": true,
           "subunitcolor": "white"
          },
          "hoverlabel": {
           "align": "left"
          },
          "hovermode": "closest",
          "mapbox": {
           "style": "light"
          },
          "paper_bgcolor": "white",
          "plot_bgcolor": "#E5ECF6",
          "polar": {
           "angularaxis": {
            "gridcolor": "white",
            "linecolor": "white",
            "ticks": ""
           },
           "bgcolor": "#E5ECF6",
           "radialaxis": {
            "gridcolor": "white",
            "linecolor": "white",
            "ticks": ""
           }
          },
          "scene": {
           "xaxis": {
            "backgroundcolor": "#E5ECF6",
            "gridcolor": "white",
            "gridwidth": 2,
            "linecolor": "white",
            "showbackground": true,
            "ticks": "",
            "zerolinecolor": "white"
           },
           "yaxis": {
            "backgroundcolor": "#E5ECF6",
            "gridcolor": "white",
            "gridwidth": 2,
            "linecolor": "white",
            "showbackground": true,
            "ticks": "",
            "zerolinecolor": "white"
           },
           "zaxis": {
            "backgroundcolor": "#E5ECF6",
            "gridcolor": "white",
            "gridwidth": 2,
            "linecolor": "white",
            "showbackground": true,
            "ticks": "",
            "zerolinecolor": "white"
           }
          },
          "shapedefaults": {
           "line": {
            "color": "#2a3f5f"
           }
          },
          "ternary": {
           "aaxis": {
            "gridcolor": "white",
            "linecolor": "white",
            "ticks": ""
           },
           "baxis": {
            "gridcolor": "white",
            "linecolor": "white",
            "ticks": ""
           },
           "bgcolor": "#E5ECF6",
           "caxis": {
            "gridcolor": "white",
            "linecolor": "white",
            "ticks": ""
           }
          },
          "title": {
           "x": 0.05
          },
          "xaxis": {
           "automargin": true,
           "gridcolor": "white",
           "linecolor": "white",
           "ticks": "",
           "title": {
            "standoff": 15
           },
           "zerolinecolor": "white",
           "zerolinewidth": 2
          },
          "yaxis": {
           "automargin": true,
           "gridcolor": "white",
           "linecolor": "white",
           "ticks": "",
           "title": {
            "standoff": 15
           },
           "zerolinecolor": "white",
           "zerolinewidth": 2
          }
         }
        },
        "width": 800,
        "xaxis": {
         "anchor": "y",
         "domain": [
          0,
          1
         ],
         "dtick": 1,
         "tickmode": "linear",
         "title": {
          "text": "Number of shot samples per task"
         }
        },
        "yaxis": {
         "anchor": "x",
         "domain": [
          0,
          1
         ],
         "title": {
          "text": "Accuracy (%)"
         }
        }
       }
      }
     },
     "metadata": {},
     "output_type": "display_data"
    }
   ],
   "source": [
    "df = pd.DataFrame({\"shot\":   [1,2,3, 4,1,2,3, 4,   1,2,3, 4,], \n",
    "                   \"M*m(k)\":  [10,10,10, 10,    20, 20, 20,20,   40, 40, 40,   40,          ],\n",
    "                  \"Accuracy\": [77.28, 77.30, 77.35,  77.32, \n",
    "                               78.05, 78.20, 78.20, 78.19, \n",
    "                               79.75, 79.65, 79.57, 79.51,\n",
    "                               ]})\n",
    "\n",
    "fig = px.line(df, x='shot', y='Accuracy', color='M*m(k)', markers=True)\n",
    "\n",
    "fig.update_traces(marker=dict(size=12),\n",
    "                  line=dict(width=3),\n",
    "                  textposition='top left',\n",
    "                  )\n",
    "fig.update_layout(\n",
    "    xaxis_title=\"Number of shot samples per task\",\n",
    "    yaxis_title=\"Accuracy (%)\",\n",
    "    legend_title=\"Total sample <br>size M*m\",\n",
    "    legend=dict(\n",
    "        yanchor=\"bottom\",\n",
    "        y=0.1,\n",
    "        xanchor=\"right\",\n",
    "        x=1,\n",
    "        bgcolor='rgba(255, 255, 255, 0.5)',  # Set the background color with transparency\n",
    "        bordercolor='rgb(128, 128, 128)',  # Set the border color with transparency\n",
    "    ),\n",
    "    plot_bgcolor='white',\n",
    "    font=dict(\n",
    "        size=24,\n",
    "    ),\n",
    "    height=800,\n",
    "    width=800,\n",
    "    # xaxis_range=[130,850],\n",
    "    # yaxis_range=[83,95],\n",
    "    # xaxis_range=[-3,21]\n",
    ")\n",
    "\n",
    "fig.update_xaxes(\n",
    "    tickmode='linear',\n",
    "    dtick=1\n",
    ")\n",
    "\n",
    "newnames = {'10':'10k', '20': '20k', '40':'40k'}\n",
    "fig.for_each_trace(lambda t: t.update(name = newnames[t.name],\n",
    "                                      legendgroup = newnames[t.name],\n",
    "                                      hovertemplate = t.hovertemplate.replace(t.name, newnames[t.name])\n",
    "                                     )\n",
    "                  )"
   ]
  },
  {
   "attachments": {},
   "cell_type": "markdown",
   "metadata": {},
   "source": [
    "## style 2"
   ]
  },
  {
   "cell_type": "code",
   "execution_count": 151,
   "metadata": {},
   "outputs": [
    {
     "data": {
      "image/png": "[encoded data removed]",
      "text/plain": [
       "<Figure size 1000x1000 with 1 Axes>"
      ]
     },
     "metadata": {},
     "output_type": "display_data"
    }
   ],
   "source": [
    "df = pd.DataFrame({\"shot\":   [1,2,3, 4,1,2,3, 4,   1,2,3, 4,], \n",
    "                   \"M*m(k)\":  [10,10,10, 10,    20, 20, 20,20,   40, 40, 40,   40,          ],\n",
    "                  \"Accuracy\": [77.28, 77.30, 77.35,  77.32, \n",
    "                               78.05, 78.20, 78.20, 78.19, \n",
    "                               79.75, 79.65, 79.57, 79.51,\n",
    "                               ]})\n",
    "\n",
    "df['M*m(k)'] = df['M*m(k)'].astype('category')\n",
    "# Create a line plot with markers\n",
    "sns.set(style=\"white\")\n",
    "plt.figure(figsize=(10,10))  # Set the size of the plot\n",
    "ax = sns.lineplot(data=df, x='shot', y='Accuracy', hue='M*m(k)', style='M*m(k)', markers=['D', '^', 'o'], dashes=False, linewidth = 2.5, markersize = 20)\n",
    "\n",
    "# Add rug plot\n",
    "sns.rugplot(data=df, x='shot', ax=ax, color='black', height = 0.01)\n",
    "\n",
    "# Set plot properties\n",
    "ax.set_xlabel(\"Number of shot samples per task\", fontsize=30)\n",
    "ax.set_ylabel(\"Accuracy (%)\", fontsize=30)\n",
    "\n",
    "ax.set_ylim(76.5, 81) # Set the limits of the y-axis\n",
    "\n",
    "# Set x and y axis ticks\n",
    "ax.tick_params(labelsize=30)\n",
    "plt.legend(title='Total sample size M*m', title_fontsize='20', fontsize='18')\n",
    "\n",
    "fig = ax.get_figure()\n",
    "fig.savefig(\"numshot_v2.pdf\", bbox_inches='tight')\n",
    "plt.show()"
   ]
  },
  {
   "cell_type": "code",
   "execution_count": 157,
   "metadata": {},
   "outputs": [
    {
     "data": {
      "text/plain": [
       "10.196666666666669"
      ]
     },
     "execution_count": 157,
     "metadata": {},
     "output_type": "execute_result"
    }
   ],
   "source": [
    "(32.88-24.84 + 33.53-27.34 + 61.57-52.28 + 68.22-61.65 + 48.02-28.70 + 39.09-27.32)/6"
   ]
  },
  {
   "cell_type": "code",
   "execution_count": 158,
   "metadata": {},
   "outputs": [
    {
     "data": {
      "text/plain": [
       "8.238333333333333"
      ]
     },
     "execution_count": 158,
     "metadata": {},
     "output_type": "execute_result"
    }
   ],
   "source": [
    "(32.88-25.10 + 33.53-27.43 + 61.57-54.48 + 68.22-61.84 + 48.02-30.93 + 39.09-34.10)/6"
   ]
  },
  {
   "cell_type": "code",
   "execution_count": null,
   "metadata": {},
   "outputs": [],
   "source": []
  }
 ],
 "metadata": {
  "kernelspec": {
   "display_name": "py39",
   "language": "python",
   "name": "python3"
  },
  "language_info": {
   "codemirror_mode": {
    "name": "ipython",
    "version": 3
   },
   "file_extension": ".py",
   "mimetype": "text/x-python",
   "name": "python",
   "nbconvert_exporter": "python",
   "pygments_lexer": "ipython3",
   "version": "3.9.16"
  },
  "orig_nbformat": 4
 },
 "nbformat": 4,
 "nbformat_minor": 2
}
